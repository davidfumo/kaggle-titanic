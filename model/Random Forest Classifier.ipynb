{
 "cells": [
  {
   "cell_type": "code",
   "execution_count": 1,
   "metadata": {
    "collapsed": false
   },
   "outputs": [],
   "source": [
    "import pandas as pd\n",
    "from pandas import Series, DataFrame\n",
    "import numpy as np\n",
    "\n",
    "import matplotlib.pyplot as plt\n",
    "%matplotlib inline\n",
    "\n",
    "import seaborn as sns\n",
    "sns.set_style('whitegrid')\n",
    "\n",
    "# Machine Learning\n",
    "from sklearn.ensemble import RandomForestClassifier\n",
    "from sklearn.model_selection import cross_val_score"
   ]
  },
  {
   "cell_type": "markdown",
   "metadata": {},
   "source": [
    "## 1. Load the titanic train and test data"
   ]
  },
  {
   "cell_type": "code",
   "execution_count": 2,
   "metadata": {
    "collapsed": false
   },
   "outputs": [
    {
     "data": {
      "text/html": [
       "<div>\n",
       "<table border=\"1\" class=\"dataframe\">\n",
       "  <thead>\n",
       "    <tr style=\"text-align: right;\">\n",
       "      <th></th>\n",
       "      <th>PassengerId</th>\n",
       "      <th>Survived</th>\n",
       "      <th>Pclass</th>\n",
       "      <th>Name</th>\n",
       "      <th>Sex</th>\n",
       "      <th>Age</th>\n",
       "      <th>SibSp</th>\n",
       "      <th>Parch</th>\n",
       "      <th>Ticket</th>\n",
       "      <th>Fare</th>\n",
       "      <th>Cabin</th>\n",
       "      <th>Embarked</th>\n",
       "    </tr>\n",
       "  </thead>\n",
       "  <tbody>\n",
       "    <tr>\n",
       "      <th>0</th>\n",
       "      <td>1</td>\n",
       "      <td>0</td>\n",
       "      <td>3</td>\n",
       "      <td>Braund, Mr. Owen Harris</td>\n",
       "      <td>male</td>\n",
       "      <td>22.0</td>\n",
       "      <td>1</td>\n",
       "      <td>0</td>\n",
       "      <td>A/5 21171</td>\n",
       "      <td>7.2500</td>\n",
       "      <td>NaN</td>\n",
       "      <td>S</td>\n",
       "    </tr>\n",
       "    <tr>\n",
       "      <th>1</th>\n",
       "      <td>2</td>\n",
       "      <td>1</td>\n",
       "      <td>1</td>\n",
       "      <td>Cumings, Mrs. John Bradley (Florence Briggs Th...</td>\n",
       "      <td>female</td>\n",
       "      <td>38.0</td>\n",
       "      <td>1</td>\n",
       "      <td>0</td>\n",
       "      <td>PC 17599</td>\n",
       "      <td>71.2833</td>\n",
       "      <td>C85</td>\n",
       "      <td>C</td>\n",
       "    </tr>\n",
       "    <tr>\n",
       "      <th>2</th>\n",
       "      <td>3</td>\n",
       "      <td>1</td>\n",
       "      <td>3</td>\n",
       "      <td>Heikkinen, Miss. Laina</td>\n",
       "      <td>female</td>\n",
       "      <td>26.0</td>\n",
       "      <td>0</td>\n",
       "      <td>0</td>\n",
       "      <td>STON/O2. 3101282</td>\n",
       "      <td>7.9250</td>\n",
       "      <td>NaN</td>\n",
       "      <td>S</td>\n",
       "    </tr>\n",
       "    <tr>\n",
       "      <th>3</th>\n",
       "      <td>4</td>\n",
       "      <td>1</td>\n",
       "      <td>1</td>\n",
       "      <td>Futrelle, Mrs. Jacques Heath (Lily May Peel)</td>\n",
       "      <td>female</td>\n",
       "      <td>35.0</td>\n",
       "      <td>1</td>\n",
       "      <td>0</td>\n",
       "      <td>113803</td>\n",
       "      <td>53.1000</td>\n",
       "      <td>C123</td>\n",
       "      <td>S</td>\n",
       "    </tr>\n",
       "    <tr>\n",
       "      <th>4</th>\n",
       "      <td>5</td>\n",
       "      <td>0</td>\n",
       "      <td>3</td>\n",
       "      <td>Allen, Mr. William Henry</td>\n",
       "      <td>male</td>\n",
       "      <td>35.0</td>\n",
       "      <td>0</td>\n",
       "      <td>0</td>\n",
       "      <td>373450</td>\n",
       "      <td>8.0500</td>\n",
       "      <td>NaN</td>\n",
       "      <td>S</td>\n",
       "    </tr>\n",
       "  </tbody>\n",
       "</table>\n",
       "</div>"
      ],
      "text/plain": [
       "   PassengerId  Survived  Pclass  \\\n",
       "0            1         0       3   \n",
       "1            2         1       1   \n",
       "2            3         1       3   \n",
       "3            4         1       1   \n",
       "4            5         0       3   \n",
       "\n",
       "                                                Name     Sex   Age  SibSp  \\\n",
       "0                            Braund, Mr. Owen Harris    male  22.0      1   \n",
       "1  Cumings, Mrs. John Bradley (Florence Briggs Th...  female  38.0      1   \n",
       "2                             Heikkinen, Miss. Laina  female  26.0      0   \n",
       "3       Futrelle, Mrs. Jacques Heath (Lily May Peel)  female  35.0      1   \n",
       "4                           Allen, Mr. William Henry    male  35.0      0   \n",
       "\n",
       "   Parch            Ticket     Fare Cabin Embarked  \n",
       "0      0         A/5 21171   7.2500   NaN        S  \n",
       "1      0          PC 17599  71.2833   C85        C  \n",
       "2      0  STON/O2. 3101282   7.9250   NaN        S  \n",
       "3      0            113803  53.1000  C123        S  \n",
       "4      0            373450   8.0500   NaN        S  "
      ]
     },
     "execution_count": 2,
     "metadata": {},
     "output_type": "execute_result"
    }
   ],
   "source": [
    "# create the dataframes\n",
    "train = pd.read_csv('../input/train.csv')\n",
    "test = pd.read_csv('../input/test.csv')\n",
    "\n",
    "# preview data\n",
    "train.head()"
   ]
  },
  {
   "cell_type": "markdown",
   "metadata": {},
   "source": [
    "## 2.Data analysis"
   ]
  },
  {
   "cell_type": "code",
   "execution_count": 3,
   "metadata": {
    "collapsed": false
   },
   "outputs": [
    {
     "name": "stdout",
     "output_type": "stream",
     "text": [
      "(891, 12)\n",
      "(418, 11)\n"
     ]
    }
   ],
   "source": [
    "# See the shape of our datasets\n",
    "print(train.shape)\n",
    "print(test.shape)"
   ]
  },
  {
   "cell_type": "code",
   "execution_count": 4,
   "metadata": {
    "collapsed": false
   },
   "outputs": [
    {
     "name": "stdout",
     "output_type": "stream",
     "text": [
      "<class 'pandas.core.frame.DataFrame'>\n",
      "RangeIndex: 891 entries, 0 to 890\n",
      "Data columns (total 12 columns):\n",
      "PassengerId    891 non-null int64\n",
      "Survived       891 non-null int64\n",
      "Pclass         891 non-null int64\n",
      "Name           891 non-null object\n",
      "Sex            891 non-null object\n",
      "Age            714 non-null float64\n",
      "SibSp          891 non-null int64\n",
      "Parch          891 non-null int64\n",
      "Ticket         891 non-null object\n",
      "Fare           891 non-null float64\n",
      "Cabin          204 non-null object\n",
      "Embarked       889 non-null object\n",
      "dtypes: float64(2), int64(5), object(5)\n",
      "memory usage: 83.6+ KB\n"
     ]
    }
   ],
   "source": [
    "train.info()"
   ]
  },
  {
   "cell_type": "code",
   "execution_count": 5,
   "metadata": {
    "collapsed": false,
    "scrolled": false
   },
   "outputs": [
    {
     "data": {
      "text/plain": [
       "PassengerId      0\n",
       "Survived         0\n",
       "Pclass           0\n",
       "Name             0\n",
       "Sex              0\n",
       "Age            177\n",
       "SibSp            0\n",
       "Parch            0\n",
       "Ticket           0\n",
       "Fare             0\n",
       "Cabin          687\n",
       "Embarked         2\n",
       "dtype: int64"
      ]
     },
     "execution_count": 5,
     "metadata": {},
     "output_type": "execute_result"
    }
   ],
   "source": [
    "# Missing columns data\n",
    "train.isnull().sum()"
   ]
  },
  {
   "cell_type": "code",
   "execution_count": 6,
   "metadata": {
    "collapsed": false
   },
   "outputs": [
    {
     "data": {
      "text/plain": [
       "PassengerId      0\n",
       "Pclass           0\n",
       "Name             0\n",
       "Sex              0\n",
       "Age             86\n",
       "SibSp            0\n",
       "Parch            0\n",
       "Ticket           0\n",
       "Fare             1\n",
       "Cabin          327\n",
       "Embarked         0\n",
       "dtype: int64"
      ]
     },
     "execution_count": 6,
     "metadata": {},
     "output_type": "execute_result"
    }
   ],
   "source": [
    "test.isnull().sum()"
   ]
  },
  {
   "cell_type": "markdown",
   "metadata": {},
   "source": [
    "### Fare"
   ]
  },
  {
   "cell_type": "code",
   "execution_count": 7,
   "metadata": {
    "collapsed": false
   },
   "outputs": [],
   "source": [
    "# Fill the missing value\n",
    "test['Fare'] = test['Fare'].fillna(test['Fare'].median())\n",
    "\n",
    "train['Fare'] = train['Fare'].astype(int)\n",
    "test['Fare'] = test['Fare'].astype(int)"
   ]
  },
  {
   "cell_type": "markdown",
   "metadata": {},
   "source": [
    "### Age"
   ]
  },
  {
   "cell_type": "code",
   "execution_count": 8,
   "metadata": {
    "collapsed": false
   },
   "outputs": [
    {
     "name": "stderr",
     "output_type": "stream",
     "text": [
      "/home/denisovitch/anaconda3/lib/python3.5/site-packages/ipykernel/__main__.py:19: SettingWithCopyWarning: \n",
      "A value is trying to be set on a copy of a slice from a DataFrame\n",
      "\n",
      "See the caveats in the documentation: http://pandas.pydata.org/pandas-docs/stable/indexing.html#indexing-view-versus-copy\n",
      "/home/denisovitch/anaconda3/lib/python3.5/site-packages/ipykernel/__main__.py:20: SettingWithCopyWarning: \n",
      "A value is trying to be set on a copy of a slice from a DataFrame\n",
      "\n",
      "See the caveats in the documentation: http://pandas.pydata.org/pandas-docs/stable/indexing.html#indexing-view-versus-copy\n"
     ]
    }
   ],
   "source": [
    "# The idea of using the mean and standard deviation is based \n",
    "# on this kernel https://www.kaggle.com/omarelgabry/titanic/a-journey-through-titanic\n",
    "train_avg_age = train['Age'].mean()\n",
    "train_std_age = train['Age'].std()\n",
    "\n",
    "test_avg_age = test['Age'].mean()\n",
    "test_std_age = test['Age'].std()\n",
    "\n",
    "# Generate random numbers between (mean - std) and (mean + std)\n",
    "# to fill the empty age columns\n",
    "# The generated age values will be in the\n",
    "# interquatile range, removing all possible outliers\n",
    "rand_train = np.random.randint(train_avg_age - train_std_age, train_avg_age + train_std_age,\n",
    "                              train['Age'].isnull().sum())\n",
    "rand_test = np.random.randint(test_avg_age - test_std_age, test_avg_age + test_std_age,\n",
    "                              test['Age'].isnull().sum())\n",
    "\n",
    "# fill \"NaN\" values in empty Age columns\n",
    "train['Age'][np.isnan(train['Age'])] = rand_train\n",
    "test['Age'][np.isnan(test['Age'])] = rand_test\n",
    "\n",
    "# Now that we haven't missing values we can\n",
    "# use Age as int instead float\n",
    "train['Age'] = train['Age'].astype(int)\n",
    "test['Age'] = test['Age'].astype(int)"
   ]
  },
  {
   "cell_type": "markdown",
   "metadata": {},
   "source": [
    "### Family"
   ]
  },
  {
   "cell_type": "code",
   "execution_count": 9,
   "metadata": {
    "collapsed": false
   },
   "outputs": [
    {
     "name": "stderr",
     "output_type": "stream",
     "text": [
      "/home/denisovitch/anaconda3/lib/python3.5/site-packages/pandas/core/indexing.py:132: SettingWithCopyWarning: \n",
      "A value is trying to be set on a copy of a slice from a DataFrame\n",
      "\n",
      "See the caveats in the documentation: http://pandas.pydata.org/pandas-docs/stable/indexing.html#indexing-view-versus-copy\n",
      "  self._setitem_with_indexer(indexer, value)\n"
     ]
    },
    {
     "data": {
      "image/png": "[encoded data removed]",
      "text/plain": [
       "<matplotlib.figure.Figure at 0x7f20b0ca4fd0>"
      ]
     },
     "metadata": {},
     "output_type": "display_data"
    }
   ],
   "source": [
    "# Family is made up of:\n",
    "# sibsp = Number of Siblings/Spouses Aboard\n",
    "# parch = Number of Parents/Children Aboard\n",
    "train['Family'] = train['SibSp'] + train['Parch']\n",
    "\n",
    "# visualize family size distribuition\n",
    "train['Family'].plot(kind='hist', title='Family Size', figsize=(10,5),bins=100, xlim=(0,10))\n",
    "\n",
    "train['Family'].loc[train['Family'] > 0] = 1\n",
    "train['Family'].loc[train['Family'] == 0] = 0\n",
    "\n",
    "test['Family'] =  test[\"Parch\"] + test[\"SibSp\"]\n",
    "test['Family'].loc[test['Family'] > 0] = 1\n",
    "test['Family'].loc[test['Family'] == 0] = 0\n",
    "\n",
    "# Sibling\n",
    "train['Sibling'] = train['SibSp']\n",
    "train['Sibling'].loc[train['Sibling'] > 0] = 1\n",
    "train['Sibling'].loc[train['Sibling'] == 0] = 0\n",
    "\n",
    "test['Sibling'] = test['SibSp']\n",
    "test['Sibling'].loc[test['Sibling'] > 0] = 1\n",
    "test['Sibling'].loc[test['Sibling'] == 0] = 0\n",
    "\n",
    "# Parent\n",
    "train['Parent'] = train['Parch']\n",
    "train['Parent'].loc[train['Parent'] > 0] = 1\n",
    "train['Parent'].loc[train['Parent'] == 0] = 0\n",
    "\n",
    "test['Parent'] = test['Parch']\n",
    "test['Parent'].loc[test['Parent'] > 0] = 1\n",
    "test['Parent'].loc[test['Parent'] == 0] = 0\n",
    "\n",
    "# drop Parch & SibSp from dataframes\n",
    "train = train.drop(['SibSp','Parch'], axis=1)\n",
    "test = test.drop(['SibSp','Parch'], axis=1)"
   ]
  },
  {
   "cell_type": "markdown",
   "metadata": {},
   "source": [
    "### Sex\n",
    "### New Predictor: Child"
   ]
  },
  {
   "cell_type": "code",
   "execution_count": 10,
   "metadata": {
    "collapsed": false
   },
   "outputs": [],
   "source": [
    "# As we see, children(age < ~16) on aboard seem to have a high chances for Survival.\n",
    "# So, we can classify passengers as males, females, and child\n",
    "def get_person(passenger):\n",
    "    age,sex = passenger\n",
    "    return 'child' if age < 16 else sex\n",
    "    \n",
    "train['Person'] = train[['Age','Sex']].apply(get_person,axis=1)\n",
    "test['Person']    = test[['Age','Sex']].apply(get_person,axis=1)\n",
    "\n",
    "# No need to use Sex column since we created Person column\n",
    "train.drop(['Sex'],axis=1,inplace=True)\n",
    "test.drop(['Sex'],axis=1,inplace=True)\n",
    "\n",
    "# create dummy variables for Person column, & drop Male as it has the lowest average of survived passengers\n",
    "person_dummies_titanic  = pd.get_dummies(train['Person'])\n",
    "person_dummies_titanic.columns = ['Child','Female','Male']\n",
    "person_dummies_titanic.drop(['Male'], axis=1, inplace=True)\n",
    "\n",
    "person_dummies_test  = pd.get_dummies(test['Person'])\n",
    "person_dummies_test.columns = ['Child','Female','Male']\n",
    "person_dummies_test.drop(['Male'], axis=1, inplace=True)\n",
    "\n",
    "train = train.join(person_dummies_titanic)\n",
    "test    = test.join(person_dummies_test)\n",
    "\n",
    "train['Child'] = train['Child'].astype(int)\n",
    "test['Child'] = test['Child'].astype(int)\n",
    "\n",
    "train['Female'] = train['Female'].astype(int)\n",
    "test['Female'] = test['Female'].astype(int)"
   ]
  },
  {
   "cell_type": "markdown",
   "metadata": {},
   "source": [
    "### Embarked"
   ]
  },
  {
   "cell_type": "code",
   "execution_count": 11,
   "metadata": {
    "collapsed": true
   },
   "outputs": [],
   "source": [
    "# From this we can see there're a lot of age columns with missing values\n",
    "# Cabin has a lot of missing values, let's assume it doesn't play \n",
    "# a big rule in our predictions\n",
    "train = train.drop(['PassengerId','Ticket','Cabin'], axis=1)\n",
    "test    = test.drop(['Ticket','Cabin'], axis=1)\n",
    "\n",
    "# fill the two missing values with the most occurred value (S)\n",
    "train['Embarked'] = train['Embarked'].fillna(\"S\")\n",
    "\n",
    "# ?\n",
    "embark_dummies_titanic  = pd.get_dummies(train['Embarked'])\n",
    "embark_dummies_titanic.drop(['S'], axis=1, inplace=True)\n",
    "\n",
    "embark_dummies_test  = pd.get_dummies(test['Embarked'])\n",
    "embark_dummies_test.drop(['S'], axis=1, inplace=True)\n",
    "\n",
    "train = train.join(embark_dummies_titanic)\n",
    "test    = test.join(embark_dummies_test)\n",
    "\n",
    "train.drop(['Embarked'], axis=1,inplace=True)\n",
    "test.drop(['Embarked'], axis=1,inplace=True)\n",
    "\n",
    "train['C'] = train['C'].astype(int)\n",
    "test['C'] = test['C'].astype(int)\n",
    "\n",
    "train['Q'] = train['Q'].astype(int)\n",
    "test['Q'] = test['Q'].astype(int)"
   ]
  },
  {
   "cell_type": "markdown",
   "metadata": {},
   "source": [
    "### New Predictor: Title"
   ]
  },
  {
   "cell_type": "code",
   "execution_count": 12,
   "metadata": {
    "collapsed": false
   },
   "outputs": [
    {
     "name": "stdout",
     "output_type": "stream",
     "text": [
      "Mr          517\n",
      "Miss        182\n",
      "Mrs         125\n",
      "Master       40\n",
      "Dr            7\n",
      "Rev           6\n",
      "Mlle          2\n",
      "Col           2\n",
      "Major         2\n",
      "Jonkheer      1\n",
      "Countess      1\n",
      "Mme           1\n",
      "Don           1\n",
      "Ms            1\n",
      "Lady          1\n",
      "Capt          1\n",
      "Sir           1\n",
      "Name: Name, dtype: int64\n"
     ]
    }
   ],
   "source": [
    "# The .apply method generates a new series\n",
    "train[\"NameLength\"] = train[\"Name\"].apply(lambda x: len(x))\n",
    "test[\"NameLength\"] = test[\"Name\"].apply(lambda x: len(x))\n",
    "\n",
    "\"\"\"\n",
    "We can extract the title of the passenger from their name. The titles take\n",
    "the form of Master., Mr., Mrs.. There are a few very commonly used titles, \n",
    "and a \"long tail\" of one-off titles that only one or two passengers have.\n",
    "\"\"\"\n",
    "\n",
    "import re\n",
    "\n",
    "# A function to get the title from a name.\n",
    "def get_title(name):\n",
    "    # Use a regular expression to search for a title.  Titles always consist of capital and lowercase letters, and end with a period.\n",
    "    title_search = re.search(' ([A-Za-z]+)\\.', name)\n",
    "    # If the title exists, extract and return it.\n",
    "    if title_search:\n",
    "        return title_search.group(1)\n",
    "    return \"other\"\n",
    "\n",
    "# Get all the titles and print how often each one occurs.\n",
    "train_titles = train[\"Name\"].apply(get_title)\n",
    "test_titles = test[\"Name\"].apply(get_title)\n",
    "\n",
    "print(pd.value_counts(train_titles))\n",
    "\n",
    "# Map each title to an integer.  Some titles are very rare, and are compressed into the same codes as other titles.\n",
    "title_mapping = {\"Mr\": 1, \"Miss\": 2, \"Mrs\": 3, \"Master\": 4, \"Dr\": 5, \n",
    "                 \"Rev\": 6, \"Major\": 7, \"Col\": 7, \"Mlle\": 8, \"Mme\": 8,\n",
    "                 \"Don\": 9, \"Lady\": 10, \"Countess\": 10, \"Jonkheer\": 10, \n",
    "                 \"Sir\": 9, \"Capt\": 7, \"Ms\": 2, \"Dona\": 9, \"other\": 11}\n",
    "\n",
    "for k,v in title_mapping.items():\n",
    "    train_titles[train_titles == k] = v\n",
    "    test_titles[test_titles == k] = v\n",
    "\n",
    "# Add in the title column.\n",
    "train[\"Title\"] = train_titles\n",
    "test['Title'] = test_titles"
   ]
  },
  {
   "cell_type": "code",
   "execution_count": 13,
   "metadata": {
    "collapsed": false
   },
   "outputs": [
    {
     "data": {
      "text/html": [
       "<div>\n",
       "<table border=\"1\" class=\"dataframe\">\n",
       "  <thead>\n",
       "    <tr style=\"text-align: right;\">\n",
       "      <th></th>\n",
       "      <th>Survived</th>\n",
       "      <th>Pclass</th>\n",
       "      <th>Name</th>\n",
       "      <th>Age</th>\n",
       "      <th>Fare</th>\n",
       "      <th>Family</th>\n",
       "      <th>Sibling</th>\n",
       "      <th>Parent</th>\n",
       "      <th>Person</th>\n",
       "      <th>Child</th>\n",
       "      <th>Female</th>\n",
       "      <th>C</th>\n",
       "      <th>Q</th>\n",
       "      <th>NameLength</th>\n",
       "      <th>Title</th>\n",
       "      <th>Class_1</th>\n",
       "      <th>Class_2</th>\n",
       "      <th>Class_3</th>\n",
       "    </tr>\n",
       "  </thead>\n",
       "  <tbody>\n",
       "    <tr>\n",
       "      <th>0</th>\n",
       "      <td>0</td>\n",
       "      <td>3</td>\n",
       "      <td>Braund, Mr. Owen Harris</td>\n",
       "      <td>22</td>\n",
       "      <td>7</td>\n",
       "      <td>1</td>\n",
       "      <td>1</td>\n",
       "      <td>0</td>\n",
       "      <td>male</td>\n",
       "      <td>0</td>\n",
       "      <td>0</td>\n",
       "      <td>0</td>\n",
       "      <td>0</td>\n",
       "      <td>23</td>\n",
       "      <td>1</td>\n",
       "      <td>0</td>\n",
       "      <td>0</td>\n",
       "      <td>1</td>\n",
       "    </tr>\n",
       "    <tr>\n",
       "      <th>1</th>\n",
       "      <td>1</td>\n",
       "      <td>1</td>\n",
       "      <td>Cumings, Mrs. John Bradley (Florence Briggs Th...</td>\n",
       "      <td>38</td>\n",
       "      <td>71</td>\n",
       "      <td>1</td>\n",
       "      <td>1</td>\n",
       "      <td>0</td>\n",
       "      <td>female</td>\n",
       "      <td>0</td>\n",
       "      <td>1</td>\n",
       "      <td>1</td>\n",
       "      <td>0</td>\n",
       "      <td>51</td>\n",
       "      <td>3</td>\n",
       "      <td>1</td>\n",
       "      <td>0</td>\n",
       "      <td>0</td>\n",
       "    </tr>\n",
       "    <tr>\n",
       "      <th>2</th>\n",
       "      <td>1</td>\n",
       "      <td>3</td>\n",
       "      <td>Heikkinen, Miss. Laina</td>\n",
       "      <td>26</td>\n",
       "      <td>7</td>\n",
       "      <td>0</td>\n",
       "      <td>0</td>\n",
       "      <td>0</td>\n",
       "      <td>female</td>\n",
       "      <td>0</td>\n",
       "      <td>1</td>\n",
       "      <td>0</td>\n",
       "      <td>0</td>\n",
       "      <td>22</td>\n",
       "      <td>2</td>\n",
       "      <td>0</td>\n",
       "      <td>0</td>\n",
       "      <td>1</td>\n",
       "    </tr>\n",
       "    <tr>\n",
       "      <th>3</th>\n",
       "      <td>1</td>\n",
       "      <td>1</td>\n",
       "      <td>Futrelle, Mrs. Jacques Heath (Lily May Peel)</td>\n",
       "      <td>35</td>\n",
       "      <td>53</td>\n",
       "      <td>1</td>\n",
       "      <td>1</td>\n",
       "      <td>0</td>\n",
       "      <td>female</td>\n",
       "      <td>0</td>\n",
       "      <td>1</td>\n",
       "      <td>0</td>\n",
       "      <td>0</td>\n",
       "      <td>44</td>\n",
       "      <td>3</td>\n",
       "      <td>1</td>\n",
       "      <td>0</td>\n",
       "      <td>0</td>\n",
       "    </tr>\n",
       "    <tr>\n",
       "      <th>4</th>\n",
       "      <td>0</td>\n",
       "      <td>3</td>\n",
       "      <td>Allen, Mr. William Henry</td>\n",
       "      <td>35</td>\n",
       "      <td>8</td>\n",
       "      <td>0</td>\n",
       "      <td>0</td>\n",
       "      <td>0</td>\n",
       "      <td>male</td>\n",
       "      <td>0</td>\n",
       "      <td>0</td>\n",
       "      <td>0</td>\n",
       "      <td>0</td>\n",
       "      <td>24</td>\n",
       "      <td>1</td>\n",
       "      <td>0</td>\n",
       "      <td>0</td>\n",
       "      <td>1</td>\n",
       "    </tr>\n",
       "  </tbody>\n",
       "</table>\n",
       "</div>"
      ],
      "text/plain": [
       "   Survived  Pclass                                               Name  Age  \\\n",
       "0         0       3                            Braund, Mr. Owen Harris   22   \n",
       "1         1       1  Cumings, Mrs. John Bradley (Florence Briggs Th...   38   \n",
       "2         1       3                             Heikkinen, Miss. Laina   26   \n",
       "3         1       1       Futrelle, Mrs. Jacques Heath (Lily May Peel)   35   \n",
       "4         0       3                           Allen, Mr. William Henry   35   \n",
       "\n",
       "   Fare  Family  Sibling  Parent  Person  Child  Female  C  Q  NameLength  \\\n",
       "0     7       1        1       0    male      0       0  0  0          23   \n",
       "1    71       1        1       0  female      0       1  1  0          51   \n",
       "2     7       0        0       0  female      0       1  0  0          22   \n",
       "3    53       1        1       0  female      0       1  0  0          44   \n",
       "4     8       0        0       0    male      0       0  0  0          24   \n",
       "\n",
       "  Title  Class_1  Class_2  Class_3  \n",
       "0     1        0        0        1  \n",
       "1     3        1        0        0  \n",
       "2     2        0        0        1  \n",
       "3     3        1        0        0  \n",
       "4     1        0        0        1  "
      ]
     },
     "execution_count": 13,
     "metadata": {},
     "output_type": "execute_result"
    }
   ],
   "source": [
    "# Split down Classes to Binary values\n",
    "# class_1, class_2, class_3\n",
    "\n",
    "def class_1(class_n):\n",
    "    if class_n == 1:\n",
    "        return 1\n",
    "    else:\n",
    "        return 0\n",
    "\n",
    "def class_2(class_n):\n",
    "    if class_n == 2:\n",
    "        return 1\n",
    "    else:\n",
    "        return 0\n",
    "    \n",
    "def class_3(class_n):\n",
    "    if class_n == 3:\n",
    "        return 1\n",
    "    else:\n",
    "        return 0\n",
    "    \n",
    "    \n",
    "train['Class_1'] = train['Pclass'].apply(class_1)\n",
    "train['Class_2'] = train['Pclass'].apply(class_2)\n",
    "train['Class_3'] = train['Pclass'].apply(class_3)\n",
    "\n",
    "test['Class_1'] = test['Pclass'].apply(class_1)\n",
    "test['Class_2'] = test['Pclass'].apply(class_2)\n",
    "test['Class_3'] = test['Pclass'].apply(class_3)\n",
    "\n",
    "\n",
    "# train.drop(['Pclass'], axis=1,inplace=True)\n",
    "# test.drop(['Pclass'], axis=1,inplace=True)\n",
    "\n",
    "train.head()"
   ]
  },
  {
   "cell_type": "markdown",
   "metadata": {},
   "source": [
    "**Feature Selection: Simple analysis of the importance of each feature**"
   ]
  },
  {
   "cell_type": "code",
   "execution_count": 14,
   "metadata": {
    "collapsed": false
   },
   "outputs": [
    {
     "data": {
      "image/png": "[encoded data removed]",
      "text/plain": [
       "<matplotlib.figure.Figure at 0x7f20ae7d9748>"
      ]
     },
     "metadata": {},
     "output_type": "display_data"
    }
   ],
   "source": [
    "from sklearn.feature_selection import SelectKBest, f_classif\n",
    "features = ['Age', 'Fare', 'Family', 'Child', 'Female', 'C', 'Q','Title', 'Class_1', 'Class_2', 'Class_3']\n",
    "\n",
    "selector = SelectKBest(f_classif, k=11)\n",
    "selector.fit(train[features], train[\"Survived\"])\n",
    "\n",
    "scores = -np.log10(selector.pvalues_)\n",
    "\n",
    "plt.bar(range(len(features)), scores)\n",
    "plt.xticks(range(len(features)), features, rotation='vertical')\n",
    "plt.show()"
   ]
  },
  {
   "cell_type": "markdown",
   "metadata": {},
   "source": [
    "### 3. Prepare the Model"
   ]
  },
  {
   "cell_type": "code",
   "execution_count": 15,
   "metadata": {
    "collapsed": false
   },
   "outputs": [],
   "source": [
    "# Now we're ready to build the machine learning model\n",
    "\n",
    "# Predictors\n",
    "# ['Pclass', 'Age', 'Sex', 'Fare', 'Embarked', 'Family', 'Title', 'Child', 'Class_1', 'Class_2', 'Class_3']\n",
    "feature_train = ['Age', 'Fare', 'Family', 'Child', 'Female', 'C', 'Q', 'Title', 'Class_1', 'Class_2', 'Class_3']\n",
    "\n",
    "X = train[feature_train] # instances to learn from\n",
    "y = train['Survived'] # target/responses the model is trying to learn to predict"
   ]
  },
  {
   "cell_type": "code",
   "execution_count": 16,
   "metadata": {
    "collapsed": false
   },
   "outputs": [
    {
     "data": {
      "text/html": [
       "<div>\n",
       "<table border=\"1\" class=\"dataframe\">\n",
       "  <thead>\n",
       "    <tr style=\"text-align: right;\">\n",
       "      <th></th>\n",
       "      <th>Age</th>\n",
       "      <th>Fare</th>\n",
       "      <th>Family</th>\n",
       "      <th>Child</th>\n",
       "      <th>Female</th>\n",
       "      <th>C</th>\n",
       "      <th>Q</th>\n",
       "      <th>Title</th>\n",
       "      <th>Class_1</th>\n",
       "      <th>Class_2</th>\n",
       "      <th>Class_3</th>\n",
       "    </tr>\n",
       "  </thead>\n",
       "  <tbody>\n",
       "    <tr>\n",
       "      <th>0</th>\n",
       "      <td>22</td>\n",
       "      <td>7</td>\n",
       "      <td>1</td>\n",
       "      <td>0</td>\n",
       "      <td>0</td>\n",
       "      <td>0</td>\n",
       "      <td>0</td>\n",
       "      <td>1</td>\n",
       "      <td>0</td>\n",
       "      <td>0</td>\n",
       "      <td>1</td>\n",
       "    </tr>\n",
       "    <tr>\n",
       "      <th>1</th>\n",
       "      <td>38</td>\n",
       "      <td>71</td>\n",
       "      <td>1</td>\n",
       "      <td>0</td>\n",
       "      <td>1</td>\n",
       "      <td>1</td>\n",
       "      <td>0</td>\n",
       "      <td>3</td>\n",
       "      <td>1</td>\n",
       "      <td>0</td>\n",
       "      <td>0</td>\n",
       "    </tr>\n",
       "    <tr>\n",
       "      <th>2</th>\n",
       "      <td>26</td>\n",
       "      <td>7</td>\n",
       "      <td>0</td>\n",
       "      <td>0</td>\n",
       "      <td>1</td>\n",
       "      <td>0</td>\n",
       "      <td>0</td>\n",
       "      <td>2</td>\n",
       "      <td>0</td>\n",
       "      <td>0</td>\n",
       "      <td>1</td>\n",
       "    </tr>\n",
       "    <tr>\n",
       "      <th>3</th>\n",
       "      <td>35</td>\n",
       "      <td>53</td>\n",
       "      <td>1</td>\n",
       "      <td>0</td>\n",
       "      <td>1</td>\n",
       "      <td>0</td>\n",
       "      <td>0</td>\n",
       "      <td>3</td>\n",
       "      <td>1</td>\n",
       "      <td>0</td>\n",
       "      <td>0</td>\n",
       "    </tr>\n",
       "    <tr>\n",
       "      <th>4</th>\n",
       "      <td>35</td>\n",
       "      <td>8</td>\n",
       "      <td>0</td>\n",
       "      <td>0</td>\n",
       "      <td>0</td>\n",
       "      <td>0</td>\n",
       "      <td>0</td>\n",
       "      <td>1</td>\n",
       "      <td>0</td>\n",
       "      <td>0</td>\n",
       "      <td>1</td>\n",
       "    </tr>\n",
       "  </tbody>\n",
       "</table>\n",
       "</div>"
      ],
      "text/plain": [
       "   Age  Fare  Family  Child  Female  C  Q Title  Class_1  Class_2  Class_3\n",
       "0   22     7       1      0       0  0  0     1        0        0        1\n",
       "1   38    71       1      0       1  1  0     3        1        0        0\n",
       "2   26     7       0      0       1  0  0     2        0        0        1\n",
       "3   35    53       1      0       1  0  0     3        1        0        0\n",
       "4   35     8       0      0       0  0  0     1        0        0        1"
      ]
     },
     "execution_count": 16,
     "metadata": {},
     "output_type": "execute_result"
    }
   ],
   "source": [
    "X.head() # this is the remaining features to use in the model"
   ]
  },
  {
   "cell_type": "markdown",
   "metadata": {},
   "source": [
    "## Model: Random Forest Classifier"
   ]
  },
  {
   "cell_type": "raw",
   "metadata": {
    "collapsed": false
   },
   "source": [
    "# Random Forest\n",
    "# Initialize our algorithm with the default paramters\n",
    "# n_estimators is the number of trees we want to make\n",
    "# min_samples_split is the minimum number of rows we need to make a split\n",
    "# min_samples_leaf is the minimum number of samples we can have at the place where a tree branch ends (the bottom points of the tree)\n",
    "# forest = RandomForestClassifier(random_state=1, n_estimators=25, min_samples_split=2, min_samples_leaf=1)\n",
    "forest = RandomForestClassifier(n_estimators=50,criterion='gini', max_depth=5, \n",
    "        min_samples_split=8, min_samples_leaf=1, min_weight_fraction_leaf=0.0, \n",
    "        max_features='auto', max_leaf_nodes=None, min_impurity_split=1e-07, bootstrap=True, \n",
    "        oob_score=False, n_jobs=1, random_state=None, verbose=0, warm_start=False, class_weight=None)\n",
    "scores = cross_val_score(forest, X, y, cv=10, scoring='accuracy')\n",
    "print(scores)\n",
    "\n",
    "# use average accuracy as an estimate of out-of-sample accuracy\n",
    "print(scores.mean())"
   ]
  },
  {
   "cell_type": "raw",
   "metadata": {
    "collapsed": false
   },
   "source": [
    "# search for an optimal value of n_estimators for Random Forest Model\n",
    "n_estimators = list(range(50, 100))\n",
    "n_scores = []\n",
    "\n",
    "for n in n_estimators:\n",
    "    forest = RandomForestClassifier(n_estimators=n)\n",
    "    scores = cross_val_score(forest, X, y, cv=10, scoring='accuracy')\n",
    "    n_scores.append(scores.mean())\n",
    "\n",
    "print(n_scores)"
   ]
  },
  {
   "cell_type": "raw",
   "metadata": {
    "collapsed": false
   },
   "source": [
    "# plot the value of n (x-axis) VS the cross validation accuracy (y-axis)\n",
    "plt.plot(n_estimators, n_scores)\n",
    "plt.xlabel('Value of N for Random Forest Classifier')\n",
    "plt.ylabel('Cross-Validated Accuracy')"
   ]
  },
  {
   "cell_type": "markdown",
   "metadata": {},
   "source": [
    "### Random Forest Parameter tuning"
   ]
  },
  {
   "cell_type": "markdown",
   "metadata": {},
   "source": [
    "**NOTE:** GridSearch is computationaly expensive, Random Search would be preferable"
   ]
  },
  {
   "cell_type": "raw",
   "metadata": {
    "collapsed": false
   },
   "source": [
    "from sklearn.grid_search import GridSearchCV\n",
    "\n",
    "n_range = list(range(90,100))\n",
    "max_depth_=list(range(5,10))\n",
    "min_samples_split_=list(range(5,10))\n",
    "min_samples_leaf_=list(range(1,5))\n",
    "\n",
    "\n",
    "\"\"\"\n",
    "param_grid = dict(n_estimators=n_range, max_depth=max_depth_,\n",
    "                  min_samples_split=min_samples_split_,\n",
    "                  min_samples_leaf=min_samples_leaf_)\n",
    "\"\"\"\n",
    "param_grid = dict(n_estimators=[98,99,100], max_depth=max_depth_,\n",
    "                  min_samples_split=min_samples_split_, min_samples_leaf=min_samples_leaf_)\n",
    "print(param_grid)\n",
    "\n",
    "grid = GridSearchCV(forest, param_grid, cv=10, scoring='accuracy')\n",
    "grid.fit(X, y)"
   ]
  },
  {
   "cell_type": "raw",
   "metadata": {
    "collapsed": false
   },
   "source": [
    "# view the complete results\n",
    "grid.grid_scores_"
   ]
  },
  {
   "cell_type": "raw",
   "metadata": {
    "collapsed": false
   },
   "source": [
    "# examine the best model\n",
    "print(grid.best_score_)\n",
    "print(grid.best_params_)"
   ]
  },
  {
   "cell_type": "markdown",
   "metadata": {},
   "source": [
    "### Use the best parameters to make predictions"
   ]
  },
  {
   "cell_type": "code",
   "execution_count": 17,
   "metadata": {
    "collapsed": false
   },
   "outputs": [
    {
     "name": "stdout",
     "output_type": "stream",
     "text": [
      "[ 0.77777778  0.82222222  0.76404494  0.85393258  0.85393258  0.85393258\n",
      "  0.86516854  0.7752809   0.86516854  0.86363636]\n",
      "0.829509703779\n"
     ]
    }
   ],
   "source": [
    "forest = RandomForestClassifier(n_estimators=50, max_depth=9, \n",
    "        min_samples_split=7, min_samples_leaf=2)\n",
    "\n",
    "scores = cross_val_score(forest, X, y, cv=10, scoring='accuracy')\n",
    "print(scores)\n",
    "\n",
    "# use average accuracy as an estimate of out-of-sample accuracy\n",
    "print(scores.mean())"
   ]
  },
  {
   "cell_type": "code",
   "execution_count": 18,
   "metadata": {
    "collapsed": false
   },
   "outputs": [],
   "source": [
    "# Train the model\n",
    "forest.fit(X, y)\n",
    "\n",
    "# Make predictions\n",
    "predictions = forest.predict(test[feature_train])"
   ]
  },
  {
   "cell_type": "markdown",
   "metadata": {},
   "source": [
    "**Submit Random Forest**"
   ]
  },
  {
   "cell_type": "code",
   "execution_count": 19,
   "metadata": {
    "collapsed": true
   },
   "outputs": [],
   "source": [
    "# Create a new dataframe with only the columns Kaggle wants from the dataset.\n",
    "submission = DataFrame({\n",
    "        \"PassengerId\": test[\"PassengerId\"],\n",
    "        \"Survived\": predictions\n",
    "    })\n",
    "submission.to_csv('random_forest_2017.csv', index=False)"
   ]
  },
  {
   "cell_type": "markdown",
   "metadata": {},
   "source": [
    "### Review The model"
   ]
  },
  {
   "cell_type": "markdown",
   "metadata": {},
   "source": [
    "This Model gave me about 0.78 on the Kaggle LB, I'm suspecting my model is overfitting but I stiil don't know Why?\n",
    "I'll update this kernel with confusion matrix, ROC curve analysis and try adjust classifier perfomance before moving on to Neural Networks."
   ]
  },
  {
   "cell_type": "code",
   "execution_count": null,
   "metadata": {
    "collapsed": true
   },
   "outputs": [],
   "source": []
  }
 ],
 "metadata": {
  "anaconda-cloud": {},
  "kernelspec": {
   "display_name": "Python 3",
   "language": "python",
   "name": "python3"
  },
  "language_info": {
   "codemirror_mode": {
    "name": "ipython",
    "version": 3
   },
   "file_extension": ".py",
   "mimetype": "text/x-python",
   "name": "python",
   "nbconvert_exporter": "python",
   "pygments_lexer": "ipython3",
   "version": "3.5.2"
  }
 },
 "nbformat": 4,
 "nbformat_minor": 0
}
